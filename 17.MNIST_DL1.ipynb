{
  "nbformat": 4,
  "nbformat_minor": 0,
  "metadata": {
    "colab": {
      "name": "17.MNIST_DL1.ipynb",
      "provenance": [],
      "collapsed_sections": []
    },
    "kernelspec": {
      "name": "python3",
      "display_name": "Python 3"
    },
    "language_info": {
      "name": "python"
    },
    "accelerator": "GPU"
  },
  "cells": [
    {
      "cell_type": "markdown",
      "metadata": {
        "id": "1WovKw5sBwXr"
      },
      "source": [
        "## MNIST資料集深度學習訓練1\n",
        "* MNIST為手寫辨識資料集，含有60000筆手寫數字訓練資料，以及10000筆測試資料\n",
        "* 本範例利用傳統的深度學習模型進行訓練\n",
        "* 可嘗試\"變更執行階段\"類型為\"None\"或\"GPU\"型態(變更後記得重啟執行階段)"
      ]
    },
    {
      "cell_type": "code",
      "metadata": {
        "id": "pdiTbdShBDYk"
      },
      "source": [
        "import keras\n",
        "from keras.models import Sequential\n",
        "from keras.layers import Dense, Dropout, Flatten"
      ],
      "execution_count": null,
      "outputs": []
    },
    {
      "cell_type": "markdown",
      "metadata": {
        "id": "_GqdWU7OD9Pe"
      },
      "source": [
        "## 準備資料"
      ]
    },
    {
      "cell_type": "code",
      "metadata": {
        "colab": {
          "base_uri": "https://localhost:8080/"
        },
        "id": "vEdJ_8DpD9au",
        "outputId": "85bb753a-4771-4ebf-d0d7-20c11bf4791e"
      },
      "source": [
        "#從keras的預設資料集讀取資料\n",
        "#x_train:訓練資料 y_train:訓練資料的標籤\n",
        "#x_test:測試資料 y_train:測試資料的標籤\n",
        "mnist = keras.datasets.mnist\n",
        "(x_train, y_train),(x_test, y_test) = mnist.load_data()\n",
        "print(x_train.shape[0], '個訓練範例')\n",
        "print(x_test.shape[0], '個測試範例')\n",
        "#進行正規化以增加正確性\n",
        "x_train, x_test = x_train / 255.0, x_test / 255.0\n"
      ],
      "execution_count": null,
      "outputs": [
        {
          "output_type": "stream",
          "text": [
            "60000 個訓練範例\n",
            "10000 個測試範例\n"
          ],
          "name": "stdout"
        }
      ]
    },
    {
      "cell_type": "markdown",
      "metadata": {
        "id": "9RPBRmfYEClW"
      },
      "source": [
        "## 定義模型"
      ]
    },
    {
      "cell_type": "code",
      "metadata": {
        "id": "Bl4llQCADCYa"
      },
      "source": [
        "model = Sequential()\n",
        "model.add(Flatten())\n",
        "model.add(Dense(512, activation='relu'))\n",
        "model.add(Dropout(0.2))\n",
        "model.add(Dense(10, activation='softmax'))\n",
        "model.compile(optimizer='adam', loss='sparse_categorical_crossentropy', metrics=['accuracy'])\n"
      ],
      "execution_count": null,
      "outputs": []
    },
    {
      "cell_type": "markdown",
      "metadata": {
        "id": "QT8LWfRNELEF"
      },
      "source": [
        "## 進行訓練"
      ]
    },
    {
      "cell_type": "code",
      "metadata": {
        "colab": {
          "base_uri": "https://localhost:8080/"
        },
        "id": "LQws5mhEEP7c",
        "outputId": "c9bc9fa1-a4fe-489d-f53c-1afb953caf54"
      },
      "source": [
        "model.fit(x_train, y_train, epochs=5, batch_size=1000)"
      ],
      "execution_count": null,
      "outputs": [
        {
          "output_type": "stream",
          "text": [
            "Epoch 1/5\n",
            "60/60 [==============================] - 3s 6ms/step - loss: 0.9578 - accuracy: 0.7326\n",
            "Epoch 2/5\n",
            "60/60 [==============================] - 0s 6ms/step - loss: 0.2621 - accuracy: 0.9262\n",
            "Epoch 3/5\n",
            "60/60 [==============================] - 0s 6ms/step - loss: 0.1894 - accuracy: 0.9463\n",
            "Epoch 4/5\n",
            "60/60 [==============================] - 0s 6ms/step - loss: 0.1536 - accuracy: 0.9554\n",
            "Epoch 5/5\n",
            "60/60 [==============================] - 0s 6ms/step - loss: 0.1260 - accuracy: 0.9645\n"
          ],
          "name": "stdout"
        },
        {
          "output_type": "execute_result",
          "data": {
            "text/plain": [
              "<tensorflow.python.keras.callbacks.History at 0x7f3b71057310>"
            ]
          },
          "metadata": {
            "tags": []
          },
          "execution_count": 5
        }
      ]
    },
    {
      "cell_type": "markdown",
      "metadata": {
        "id": "xSrGr3N-ETr1"
      },
      "source": [
        "## 利用測試資料評估正確性"
      ]
    },
    {
      "cell_type": "code",
      "metadata": {
        "colab": {
          "base_uri": "https://localhost:8080/"
        },
        "id": "69INyt9wET3N",
        "outputId": "361db8b0-5025-4775-abe7-f6b62a6eee6f"
      },
      "source": [
        "score=model.evaluate(x_test, y_test)\n",
        "print(\"正確率為：\",score[1])"
      ],
      "execution_count": null,
      "outputs": [
        {
          "output_type": "stream",
          "text": [
            "313/313 [==============================] - 1s 2ms/step - loss: 0.1128 - accuracy: 0.9667\n",
            "正確率為： 0.96670001745224\n"
          ],
          "name": "stdout"
        }
      ]
    }
  ]
}